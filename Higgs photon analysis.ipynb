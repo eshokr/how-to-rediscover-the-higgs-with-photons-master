{
 "cells": [
  {
   "cell_type": "markdown",
   "metadata": {},
   "source": [
    "# How to rediscover the Higgs boson yourself!\n",
    "\n",
    "This notebook is to get a felling of how to do a real analysis. ATLAS Open Data http://opendata.atlas.cern has been used to rediscover the Higgs boson yourself!\n",
    "\n",
    "The datasets used in this notebook have already been filtered to include at least 2 photons per event, so that processing is quicker.\n",
    "\n",
    "This analysis loosely follows the discovery of the Higgs boson by ATLAS https://arxiv.org/pdf/1207.7214.pdf (mostly Section 5 and 5.1)\n",
    "\n",
    "Feynman diagrams can be found at https://www.particlezoo.net\n",
    "\n",
    "#### source, the main notebook can be found at  \n",
    "https://github.com/meevans1/how-to-rediscover-the-higgs-with-photons/blob/master/Higgs%20photon%20analysis.ipynb\n",
    "\n",
    "#### I edited it to be somehow simpiler and make sure the codes are compatible with the newer version of uproot (uproot4).\n",
    "\n",
    "\n"
   ]
  },
  {
   "cell_type": "markdown",
   "metadata": {},
   "source": [
    "<CENTER><img src=\"images/Hyy_feynman.png\" style=\"width:40%\"></CENTER>\n"
   ]
  },
  {
   "cell_type": "markdown",
   "metadata": {},
   "source": [
    "## First time setup on your computer (no need on mybinder)\n",
    "\n",
    "This first cell only needs to be run the first time you open this notebook on your computer.\n",
    "\n",
    "If you close Jupyter and re-open on the same computer, you won't need to run this first cell again.\n",
    "\n",
    "If you open on binder, you don't need to run this cell.\n"
   ]
  },
  {
   "cell_type": "code",
   "execution_count": null,
   "metadata": {},
   "outputs": [],
   "source": [
    "import sys\n",
    "!{sys.executable} -m pip install --upgrade --user pip # update the pip package installer\n",
    "!{sys.executable} -m pip install -U numpy pandas uproot matplotlib lmfit --user # install required packages"
   ]
  },
  {
   "cell_type": "markdown",
   "metadata": {},
   "source": [
    "## To setup everytime\n",
    "\n",
    "Cell -> Run All Below\n",
    "\n",
    "to be done every time you re-open this notebook\n"
   ]
  },
  {
   "cell_type": "code",
   "execution_count": 51,
   "metadata": {},
   "outputs": [],
   "source": [
    "import uproot  # for reading .root files\n",
    "import pandas as pd  # to store data as dataframe\n",
    "import time  # to measure time to analyse\n",
    "import math  # for mathematical functions such as square root\n",
    "import numpy as np  # # for numerical calculations such as histogramming\n",
    "import matplotlib.pyplot as plt  # for plotting\n",
    "from lmfit.models import (\n",
    "    PolynomialModel,\n",
    "    GaussianModel,\n",
    ")  # for the signal and background fits\n",
    "from matplotlib.ticker import MaxNLocator, AutoMinorLocator  # for minor ticks"
   ]
  },
  {
   "cell_type": "markdown",
   "metadata": {},
   "source": [
    "<a id='fraction'></a>\n"
   ]
  },
  {
   "cell_type": "markdown",
   "metadata": {},
   "source": [
    "General definitions of luminosity, fraction of data used, where to access the input files\n"
   ]
  },
  {
   "cell_type": "code",
   "execution_count": 52,
   "metadata": {},
   "outputs": [],
   "source": [
    "lumi = 0.5  # fb-1 # data_A only\n",
    "# lumi = 1.9 # fb-1 # data_B only\n",
    "# lumi = 2.9 # fb-1 # data_C only\n",
    "# lumi = 4.7 # fb-1 # data_D only\n",
    "# lumi = 10 # fb-1 # data_A,data_B,data_C,data_D\n",
    "\n",
    "fraction = 1  # 0.8  # reduce this is you want the code to run quicker"
   ]
  },
  {
   "cell_type": "markdown",
   "metadata": {},
   "source": [
    "<a id='samples'></a>\n"
   ]
  },
  {
   "cell_type": "markdown",
   "metadata": {},
   "source": [
    "Samples to process.\n"
   ]
  },
  {
   "cell_type": "code",
   "execution_count": 464,
   "metadata": {},
   "outputs": [],
   "source": [
    "# For using Data_A, Data_B, Data_C and Data_D you can use the following path:\n",
    "# tuple_path = \"https://atlas-opendata.web.cern.ch/atlas-opendata/samples/2020/GamGam/Data/\" # web address\n",
    "\n",
    "# get the tree from the root file using uproot\n",
    "# data = uproot.open(\n",
    "#     # \"https://atlas-opendata.web.cern.ch/atlas-opendata/samples/2020/GamGam/Data/data_A.GamGam.root\",\n",
    "#     \"https://atlas-opendata.web.cern.ch/atlas-opendata/samples/2020/GamGam/Data/data_B.GamGam.root\",\n",
    "#     # \"https://atlas-opendata.web.cern.ch/atlas-opendata/samples/2020/GamGam/Data/data_C.GamGam.root\",\n",
    "#     # \"https://atlas-opendata.web.cern.ch/atlas-opendata/samples/2020/GamGam/Data/data_D.GamGam.root\",\n",
    "# )[\"mini\"]\n",
    "\n",
    "#import uproot\n",
    "\n",
    "#file_paths = [\n",
    "#    \"https://atlas-opendata.web.cern.ch/atlas-opendata/samples/2020/GamGam/Data/data_A.GamGam.root\",\n",
    "    #    \"https://atlas-opendata.web.cern.ch/atlas-opendata/samples/2020/GamGam/Data/data_B.GamGam.root\",\n",
    "    #    \"https://atlas-opendata.web.cern.ch/atlas-opendata/samples/2020/GamGam/Data/data_C.GamGam.root\",\n",
    "    #    \"https://atlas-opendata.web.cern.ch/atlas-opendata/samples/2020/GamGam/Data/data_D.GamGam.root\",\n",
    "# ]\n",
    "\n",
    "# create a list of trees #! if you want to use all the data, uncomment the upper part and comment this part\n",
    "#data = [uproot.open(file_path)[\"mini\"] for file_path in file_paths]\n",
    "#concatenated_file = uproot.concatenate(data)\n",
    "\n"
   ]
  },
  {
   "cell_type": "code",
   "execution_count": 54,
   "metadata": {},
   "outputs": [],
   "source": [
    "#get the tree from the root file using uproot, A is used for that test\n",
    "data = uproot.open(\"Input/GamGam/Data/data_A.GamGam.root\")[\"mini\"]"
   ]
  },
  {
   "cell_type": "code",
   "execution_count": 468,
   "metadata": {},
   "outputs": [
    {
     "name": "stdout",
     "output_type": "stream",
     "text": [
      "name                 | typename                 | interpretation                \n",
      "---------------------+--------------------------+-------------------------------\n",
      "runNumber            | int32_t                  | AsDtype('>i4')\n",
      "eventNumber          | int32_t                  | AsDtype('>i4')\n",
      "channelNumber        | int32_t                  | AsDtype('>i4')\n",
      "mcWeight             | float                    | AsDtype('>f4')\n",
      "scaleFactor_PILEUP   | float                    | AsDtype('>f4')\n",
      "scaleFactor_ELE      | float                    | AsDtype('>f4')\n",
      "scaleFactor_MUON     | float                    | AsDtype('>f4')\n",
      "scaleFactor_PHOTON   | float                    | AsDtype('>f4')\n",
      "scaleFactor_TAU      | float                    | AsDtype('>f4')\n",
      "scaleFactor_BTAG     | float                    | AsDtype('>f4')\n",
      "scaleFactor_LepTR... | float                    | AsDtype('>f4')\n",
      "scaleFactor_Photo... | float                    | AsDtype('>f4')\n",
      "trigE                | bool                     | AsDtype('bool')\n",
      "trigM                | bool                     | AsDtype('bool')\n",
      "trigP                | bool                     | AsDtype('bool')\n",
      "lep_n                | uint32_t                 | AsDtype('>u4')\n",
      "lep_truthMatched     | std::vector<bool>        | AsJagged(AsDtype('bool'), h...\n",
      "lep_trigMatched      | std::vector<bool>        | AsJagged(AsDtype('bool'), h...\n",
      "lep_pt               | std::vector<float>       | AsJagged(AsDtype('>f4'), he...\n",
      "lep_eta              | std::vector<float>       | AsJagged(AsDtype('>f4'), he...\n",
      "lep_phi              | std::vector<float>       | AsJagged(AsDtype('>f4'), he...\n",
      "lep_E                | std::vector<float>       | AsJagged(AsDtype('>f4'), he...\n",
      "lep_z0               | std::vector<float>       | AsJagged(AsDtype('>f4'), he...\n",
      "lep_charge           | std::vector<int32_t>     | AsJagged(AsDtype('>i4'), he...\n",
      "lep_type             | std::vector<uint32_t>    | AsJagged(AsDtype('>u4'), he...\n",
      "lep_isTightID        | std::vector<bool>        | AsJagged(AsDtype('bool'), h...\n",
      "lep_ptcone30         | std::vector<float>       | AsJagged(AsDtype('>f4'), he...\n",
      "lep_etcone20         | std::vector<float>       | AsJagged(AsDtype('>f4'), he...\n",
      "lep_trackd0pvunbi... | std::vector<float>       | AsJagged(AsDtype('>f4'), he...\n",
      "lep_tracksigd0pvu... | std::vector<float>       | AsJagged(AsDtype('>f4'), he...\n",
      "met_et               | float                    | AsDtype('>f4')\n",
      "met_phi              | float                    | AsDtype('>f4')\n",
      "jet_n                | uint32_t                 | AsDtype('>u4')\n",
      "jet_pt               | std::vector<float>       | AsJagged(AsDtype('>f4'), he...\n",
      "jet_eta              | std::vector<float>       | AsJagged(AsDtype('>f4'), he...\n",
      "jet_phi              | std::vector<float>       | AsJagged(AsDtype('>f4'), he...\n",
      "jet_E                | std::vector<float>       | AsJagged(AsDtype('>f4'), he...\n",
      "jet_jvt              | std::vector<float>       | AsJagged(AsDtype('>f4'), he...\n",
      "jet_trueflav         | std::vector<int32_t>     | AsJagged(AsDtype('>i4'), he...\n",
      "jet_truthMatched     | std::vector<bool>        | AsJagged(AsDtype('bool'), h...\n",
      "jet_MV2c10           | std::vector<float>       | AsJagged(AsDtype('>f4'), he...\n",
      "photon_n             | uint32_t                 | AsDtype('>u4')\n",
      "photon_truthMatched  | std::vector<bool>        | AsJagged(AsDtype('bool'), h...\n",
      "photon_trigMatched   | std::vector<bool>        | AsJagged(AsDtype('bool'), h...\n",
      "photon_pt            | std::vector<float>       | AsJagged(AsDtype('>f4'), he...\n",
      "photon_eta           | std::vector<float>       | AsJagged(AsDtype('>f4'), he...\n",
      "photon_phi           | std::vector<float>       | AsJagged(AsDtype('>f4'), he...\n",
      "photon_E             | std::vector<float>       | AsJagged(AsDtype('>f4'), he...\n",
      "photon_isTightID     | std::vector<bool>        | AsJagged(AsDtype('bool'), h...\n",
      "photon_ptcone30      | std::vector<float>       | AsJagged(AsDtype('>f4'), he...\n",
      "photon_etcone20      | std::vector<float>       | AsJagged(AsDtype('>f4'), he...\n",
      "photon_convType      | std::vector<int32_t>     | AsJagged(AsDtype('>i4'), he...\n",
      "tau_n                | uint32_t                 | AsDtype('>u4')\n",
      "tau_pt               | std::vector<float>       | AsJagged(AsDtype('>f4'), he...\n",
      "tau_eta              | std::vector<float>       | AsJagged(AsDtype('>f4'), he...\n",
      "tau_phi              | std::vector<float>       | AsJagged(AsDtype('>f4'), he...\n",
      "tau_E                | std::vector<float>       | AsJagged(AsDtype('>f4'), he...\n",
      "tau_isTightID        | std::vector<bool>        | AsJagged(AsDtype('bool'), h...\n",
      "tau_truthMatched     | std::vector<bool>        | AsJagged(AsDtype('bool'), h...\n",
      "tau_trigMatched      | std::vector<bool>        | AsJagged(AsDtype('bool'), h...\n",
      "tau_nTracks          | std::vector<int32_t>     | AsJagged(AsDtype('>i4'), he...\n",
      "tau_BDTid            | std::vector<float>       | AsJagged(AsDtype('>f4'), he...\n",
      "ditau_m              | float                    | AsDtype('>f4')\n",
      "lep_pt_syst          | std::vector<float>       | AsJagged(AsDtype('>f4'), he...\n",
      "met_et_syst          | float                    | AsDtype('>f4')\n",
      "jet_pt_syst          | std::vector<float>       | AsJagged(AsDtype('>f4'), he...\n",
      "photon_pt_syst       | std::vector<float>       | AsJagged(AsDtype('>f4'), he...\n",
      "tau_pt_syst          | std::vector<float>       | AsJagged(AsDtype('>f4'), he...\n",
      "XSection             | float                    | AsDtype('>f4')\n",
      "SumWeights           | float                    | AsDtype('>f4')\n",
      "largeRjet_n          | uint32_t                 | AsDtype('>u4')\n",
      "largeRjet_pt         | std::vector<float>       | AsJagged(AsDtype('>f4'), he...\n",
      "largeRjet_eta        | std::vector<float>       | AsJagged(AsDtype('>f4'), he...\n",
      "largeRjet_phi        | std::vector<float>       | AsJagged(AsDtype('>f4'), he...\n",
      "largeRjet_E          | std::vector<float>       | AsJagged(AsDtype('>f4'), he...\n",
      "largeRjet_m          | std::vector<float>       | AsJagged(AsDtype('>f4'), he...\n",
      "largeRjet_truthMa... | std::vector<float>       | AsJagged(AsDtype('>f4'), he...\n",
      "largeRjet_D2         | std::vector<float>       | AsJagged(AsDtype('>f4'), he...\n",
      "largeRjet_tau32      | std::vector<float>       | AsJagged(AsDtype('>f4'), he...\n",
      "largeRjet_pt_syst    | std::vector<float>       | AsJagged(AsDtype('>f4'), he...\n",
      "tau_charge           | std::vector<int32_t>     | AsJagged(AsDtype('>i4'), he...\n"
     ]
    }
   ],
   "source": [
    "data[0].show()"
   ]
  },
  {
   "cell_type": "code",
   "execution_count": 56,
   "metadata": {},
   "outputs": [
    {
     "data": {
      "text/html": [
       "<pre>[{runNumber: 297730, eventNumber: 1540777, channelNumber: 297730, ...},\n",
       " {runNumber: 297730, eventNumber: 1713779, channelNumber: 297730, ...},\n",
       " {runNumber: 297730, eventNumber: 1761929, channelNumber: 297730, ...},\n",
       " {runNumber: 297730, eventNumber: 1765304, channelNumber: 297730, ...},\n",
       " {runNumber: 297730, eventNumber: 1651552, channelNumber: 297730, ...},\n",
       " {runNumber: 297730, eventNumber: 1587401, channelNumber: 297730, ...},\n",
       " {runNumber: 297730, eventNumber: 1614177, channelNumber: 297730, ...},\n",
       " {runNumber: 297730, eventNumber: 1663098, channelNumber: 297730, ...},\n",
       " {runNumber: 297730, eventNumber: 1745456, channelNumber: 297730, ...},\n",
       " {runNumber: 297730, eventNumber: 2122737, channelNumber: 297730, ...},\n",
       " ...,\n",
       " {runNumber: 300279, eventNumber: 151896264, channelNumber: 300279, ...},\n",
       " {runNumber: 300279, eventNumber: 152110105, channelNumber: 300279, ...},\n",
       " {runNumber: 300279, eventNumber: 152350499, channelNumber: 300279, ...},\n",
       " {runNumber: 300279, eventNumber: 152766581, channelNumber: 300279, ...},\n",
       " {runNumber: 300279, eventNumber: 153183377, channelNumber: 300279, ...},\n",
       " {runNumber: 300279, eventNumber: 153076290, channelNumber: 300279, ...},\n",
       " {runNumber: 300279, eventNumber: 153237141, channelNumber: 300279, ...},\n",
       " {runNumber: 300279, eventNumber: 153163214, channelNumber: 300279, ...},\n",
       " {runNumber: 300279, eventNumber: 153313100, channelNumber: 300279, ...}]\n",
       "-------------------------------------------------------------------------\n",
       "type: 430344 * {\n",
       "    runNumber: int32,\n",
       "    eventNumber: int32,\n",
       "    channelNumber: int32,\n",
       "    mcWeight: float32,\n",
       "    scaleFactor_PILEUP: float32,\n",
       "    scaleFactor_ELE: float32,\n",
       "    scaleFactor_MUON: float32,\n",
       "    scaleFactor_PHOTON: float32,\n",
       "    scaleFactor_TAU: float32,\n",
       "    scaleFactor_BTAG: float32,\n",
       "    scaleFactor_LepTRIGGER: float32,\n",
       "    scaleFactor_PhotonTRIGGER: float32,\n",
       "    scaleFactor_TauTRIGGER: float32,\n",
       "    scaleFactor_DiTauTRIGGER: float32,\n",
       "    trigE: bool,\n",
       "    trigM: bool,\n",
       "    trigP: bool,\n",
       "    trigT: bool,\n",
       "    trigDT: bool,\n",
       "    lep_n: uint32,\n",
       "    lep_truthMatched: var * bool,\n",
       "    lep_trigMatched: var * bool,\n",
       "    lep_pt: var * float32,\n",
       "    lep_eta: var * float32,\n",
       "    lep_phi: var * float32,\n",
       "    lep_E: var * float32,\n",
       "    lep_z0: var * float32,\n",
       "    lep_charge: var * int32,\n",
       "    lep_type: var * uint32,\n",
       "    lep_isTightID: var * bool,\n",
       "    lep_ptcone30: var * float32,\n",
       "    lep_etcone20: var * float32,\n",
       "    lep_trackd0pvunbiased: var * float32,\n",
       "    lep_tracksigd0pvunbiased: var * float32,\n",
       "    met_et: float32,\n",
       "    met_phi: float32,\n",
       "    jet_n: uint32,\n",
       "    jet_pt: var * float32,\n",
       "    jet_eta: var * float32,\n",
       "    jet_phi: var * float32,\n",
       "    jet_E: var * float32,\n",
       "    jet_jvt: var * float32,\n",
       "    jet_trueflav: var * int32,\n",
       "    jet_truthMatched: var * bool,\n",
       "    jet_MV2c10: var * float32,\n",
       "    photon_n: uint32,\n",
       "    photon_truthMatched: var * bool,\n",
       "    photon_trigMatched: var * bool,\n",
       "    photon_pt: var * float32,\n",
       "    photon_eta: var * float32,\n",
       "    photon_phi: var * float32,\n",
       "    photon_E: var * float32,\n",
       "    photon_isTightID: var * bool,\n",
       "    photon_ptcone30: var * float32,\n",
       "    photon_etcone20: var * float32,\n",
       "    photon_convType: var * int32,\n",
       "    fatjet_n: uint32,\n",
       "    fatjet_pt: var * float32,\n",
       "    fatjet_eta: var * float32,\n",
       "    fatjet_phi: var * float32,\n",
       "    fatjet_E: var * float32,\n",
       "    fatjet_m: var * float32,\n",
       "    fatjet_truthMatched: var * int32,\n",
       "    fatjet_D2: var * float32,\n",
       "    fatjet_tau32: var * float32,\n",
       "    tau_n: uint32,\n",
       "    tau_pt: var * float32,\n",
       "    tau_eta: var * float32,\n",
       "    tau_phi: var * float32,\n",
       "    tau_E: var * float32,\n",
       "    tau_charge: var * int32,\n",
       "    tau_isTightID: var * bool,\n",
       "    tau_truthMatched: var * bool,\n",
       "    tau_trigMatched: var * bool,\n",
       "    tau_nTracks: var * int32,\n",
       "    tau_BDTid: var * float32,\n",
       "    ditau_m: float32,\n",
       "    truth_pt: var * float32,\n",
       "    truth_eta: var * float32,\n",
       "    truth_phi: var * float32,\n",
       "    truth_E: var * float32,\n",
       "    truth_pdgid: var * int32,\n",
       "    lep_pt_syst: var * float32,\n",
       "    met_et_syst: float32,\n",
       "    jet_pt_syst: var * float32,\n",
       "    photon_pt_syst: var * float32,\n",
       "    fatjet_pt_syst: var * float32,\n",
       "    tau_pt_syst: var * float32,\n",
       "    XSection: float32,\n",
       "    SumWeights: float32\n",
       "}</pre>"
      ],
      "text/plain": [
       "<Array [{runNumber: 297730, ...}, ..., {...}] type='430344 * {runNumber: in...'>"
      ]
     },
     "execution_count": 56,
     "metadata": {},
     "output_type": "execute_result"
    }
   ],
   "source": [
    "data_arrays = data.arrays()\n",
    "data_arrays"
   ]
  },
  {
   "cell_type": "code",
   "execution_count": null,
   "metadata": {},
   "outputs": [],
   "source": []
  },
  {
   "cell_type": "code",
   "execution_count": 57,
   "metadata": {},
   "outputs": [
    {
     "data": {
      "text/plain": [
       "uproot.models.TBranch.Model_TBranchElement_v10"
      ]
     },
     "execution_count": 57,
     "metadata": {},
     "output_type": "execute_result"
    }
   ],
   "source": [
    "type(data[\"photon_E\"])  # uproot.models.TBranch.Model_TBranchMethods"
   ]
  },
  {
   "cell_type": "code",
   "execution_count": 58,
   "metadata": {},
   "outputs": [
    {
     "name": "stdout",
     "output_type": "stream",
     "text": [
      "<class 'uproot.models.TBranch.Model_TBranchElement_v10'>\n",
      "<class 'awkward.highlevel.Array'>\n",
      "<class 'awkward.highlevel.Array'>\n"
     ]
    }
   ],
   "source": [
    "print(type(data[\"photon_pt\"]))  # uproot.models.TBranch.Model_TBranchElement_v10\n",
    "print(type(data_arrays[\"photon_pt\"]))  #! awkward.highlevel.Array\n",
    "print(type(data_arrays))  #! array of awkward.highlevel.Array s"
   ]
  },
  {
   "cell_type": "code",
   "execution_count": 461,
   "metadata": {},
   "outputs": [
    {
     "name": "stdout",
     "output_type": "stream",
     "text": [
      "46690.223 , 29442.607\n",
      "60888.74 , 37795.01\n",
      "39186.21 , 25327.361\n",
      "35529.688 , 29579.598\n",
      "48605.836 , 29717.975\n",
      "64788.35 , 52240.426\n",
      "101266.49 , 47761.832\n",
      "57783.535 , 28445.018\n",
      "39878.234 , 37740.383\n",
      "48048.926 , 26051.443\n"
     ]
    }
   ],
   "source": [
    "# show first column of data\n",
    "for i in range(0, 10):\n",
    "    print(photon_pt[:, 0][i], \",\", photon_pt[:, 1][i])\n",
    "\n",
    "# photon_pt"
   ]
  },
  {
   "cell_type": "code",
   "execution_count": null,
   "metadata": {},
   "outputs": [],
   "source": [
    "# get the photon arrays from the data_arrays\n",
    "photon_pt = data_arrays[\"photon_pt\"]\n",
    "photon_eta = data_arrays[\"photon_eta\"]\n",
    "photon_phi = data_arrays[\"photon_phi\"]\n",
    "photon_E = data_arrays[\"photon_E\"]\n",
    "photon_isTightID = data_arrays[\"photon_isTightID\"]\n",
    "photon_etcone20 = data_arrays[\"photon_etcone20\"]"
   ]
  },
  {
   "cell_type": "markdown",
   "metadata": {},
   "source": [
    "Define function to calculate diphoton invariant mass\n"
   ]
  },
  {
   "cell_type": "code",
   "execution_count": null,
   "metadata": {},
   "outputs": [],
   "source": [
    "def calc_myy(photon_pt, photon_eta, photon_phi, photon_E):\n",
    "    # first photon is [0], 2nd photon is [1] etc\n",
    "    # x-component of photon[0] momentum\n",
    "    px_0 = photon_pt[:, 0] * np.cos(photon_phi[:, 0])\n",
    "    # y-component of photon[0] momentum\n",
    "    py_0 = photon_pt[:, 0] * np.sin(photon_phi[:, 0])\n",
    "    # z-component of photon[0] momentum\n",
    "    pz_0 = photon_pt[:, 0] * np.sinh(photon_eta[:, 0])\n",
    "    # x-component of photon[1] momentum\n",
    "    px_1 = photon_pt[:, 1] * np.cos(photon_phi[:, 1])\n",
    "    # y-component of photon[1] momentum\n",
    "    py_1 = photon_pt[:, 1] * np.sin(photon_phi[:, 1])\n",
    "    # z-component of photon[1] momentum\n",
    "    pz_1 = photon_pt[:, 1] * np.sinh(photon_eta[:, 1])\n",
    "    sumpx = px_0 + px_1  # x-component of diphoton momentum\n",
    "    sumpy = py_0 + py_1  # y-component of diphoton momentum\n",
    "    sumpz = pz_0 + pz_1  # z-component of diphoton momentum\n",
    "    sump = np.sqrt(\n",
    "        sumpx**2 + sumpy**2 + sumpz**2\n",
    "    )  # magnitude of diphoton momentum\n",
    "    sumE = photon_E[:, 0] + photon_E[:, 1]  # energy of diphoton system\n",
    "    return np.sqrt(sumE**2 - sump**2) / 1000  # /1000 to go from MeV to GeV"
   ]
  },
  {
   "cell_type": "code",
   "execution_count": null,
   "metadata": {},
   "outputs": [
    {
     "data": {
      "text/html": [
       "<pre>[170,\n",
       " 110,\n",
       " 79.6,\n",
       " 65.3,\n",
       " 74.3,\n",
       " 134,\n",
       " 156,\n",
       " 99,\n",
       " 78.4,\n",
       " 80.3,\n",
       " ...,\n",
       " 29.1,\n",
       " 78.6,\n",
       " 88.8,\n",
       " 84.6,\n",
       " 94.9,\n",
       " 100,\n",
       " 70.2,\n",
       " 14.6,\n",
       " 98.2]\n",
       "----------------------\n",
       "type: 430344 * float32</pre>"
      ],
      "text/plain": [
       "<Array [170, 110, 79.6, 65.3, ..., 70.2, 14.6, 98.2] type='430344 * float32'>"
      ]
     },
     "execution_count": 377,
     "metadata": {},
     "output_type": "execute_result"
    }
   ],
   "source": [
    "myy = calc_myy(photon_pt, photon_eta, photon_phi, photon_E)\n",
    "myy  # invariant mass of the photon pair (in GeV) for each event in the dataset without cuts or selections"
   ]
  },
  {
   "cell_type": "code",
   "execution_count": null,
   "metadata": {},
   "outputs": [
    {
     "data": {
      "text/plain": [
       "(array([2794., 2591., 2767., 2756., 2760., 2700., 2616., 2606., 2552.,\n",
       "        2498., 2464., 2523., 2414., 2424., 2402., 2288., 2325., 2327.,\n",
       "        2289., 2317., 2256., 2200., 2177., 2156., 2031., 2120., 2032.,\n",
       "        2095., 2015., 1968., 1853., 1962., 1890., 1794., 1756., 1879.,\n",
       "        1784., 1738., 1775., 1735., 1719., 1731., 1736., 1635., 1699.,\n",
       "        1608., 1577., 1566., 1559., 1540., 1570., 1463., 1521., 1574.,\n",
       "        1446., 1453., 1400., 1397., 1457., 1388., 1298., 1310., 1292.,\n",
       "        1341., 1310., 1310., 1175., 1206., 1117., 1269., 1171., 1105.,\n",
       "        1134., 1136., 1144., 1140., 1118., 1104., 1079., 1138., 1030.,\n",
       "        1034., 1036., 1068., 1032.,  971., 1025.,  990.,  920.,  999.,\n",
       "         953.,  938.,  904.,  838.,  877.,  882.,  872.,  883.,  907.,\n",
       "         866.,  827.,  835.,  805.,  829.,  834.,  762.,  810.,  774.,\n",
       "         773.,  746.,  703.,  746.,  736.,  705.,  677.,  706.,  707.,\n",
       "         656.,  707.,  709.]),\n",
       " array([ 90.        ,  90.58333588,  91.16666412,  91.75      ,\n",
       "         92.33333588,  92.91666412,  93.5       ,  94.08333588,\n",
       "         94.66666412,  95.25      ,  95.83333588,  96.41666412,\n",
       "         97.        ,  97.58333588,  98.16666412,  98.75      ,\n",
       "         99.33333588,  99.91666412, 100.5       , 101.08333588,\n",
       "        101.66666412, 102.25      , 102.83333588, 103.41666412,\n",
       "        104.        , 104.58333588, 105.16666412, 105.75      ,\n",
       "        106.33333588, 106.91666412, 107.5       , 108.08333588,\n",
       "        108.66666412, 109.25      , 109.83333588, 110.41666412,\n",
       "        111.        , 111.58333588, 112.16666412, 112.75      ,\n",
       "        113.33333588, 113.91666412, 114.5       , 115.08333588,\n",
       "        115.66666412, 116.25      , 116.83333588, 117.41666412,\n",
       "        118.        , 118.58333588, 119.16666412, 119.75      ,\n",
       "        120.33333588, 120.91666412, 121.5       , 122.08333588,\n",
       "        122.66666412, 123.25      , 123.83333588, 124.41666412,\n",
       "        125.        , 125.58333588, 126.16666412, 126.75      ,\n",
       "        127.33333588, 127.91666412, 128.5       , 129.08332825,\n",
       "        129.66667175, 130.25      , 130.83332825, 131.41667175,\n",
       "        132.        , 132.58332825, 133.16667175, 133.75      ,\n",
       "        134.33332825, 134.91667175, 135.5       , 136.08332825,\n",
       "        136.66667175, 137.25      , 137.83332825, 138.41667175,\n",
       "        139.        , 139.58332825, 140.16667175, 140.75      ,\n",
       "        141.33332825, 141.91667175, 142.5       , 143.08332825,\n",
       "        143.66667175, 144.25      , 144.83332825, 145.41667175,\n",
       "        146.        , 146.58332825, 147.16667175, 147.75      ,\n",
       "        148.33332825, 148.91667175, 149.5       , 150.08332825,\n",
       "        150.66667175, 151.25      , 151.83332825, 152.41667175,\n",
       "        153.        , 153.58332825, 154.16667175, 154.75      ,\n",
       "        155.33332825, 155.91667175, 156.5       , 157.08332825,\n",
       "        157.66667175, 158.25      , 158.83332825, 159.41667175,\n",
       "        160.        ]),\n",
       " [<matplotlib.patches.Polygon at 0x2cd6dbc90>])"
      ]
     },
     "execution_count": 378,
     "metadata": {},
     "output_type": "execute_result"
    },
    {
     "data": {
      "image/png": "[encoded data removed]",
      "text/plain": [
       "<Figure size 640x480 with 1 Axes>"
      ]
     },
     "metadata": {},
     "output_type": "display_data"
    }
   ],
   "source": [
    "myy = calc_myy(photon_pt, photon_eta, photon_phi, photon_E)\n",
    "myy  # invariant mass of the photon pair (in GeV) for each event in the dataset without cuts or selections\n",
    "\n",
    "plt.hist(myy, bins=120, range=(90, 160), histtype=\"step\", label=\"Higgs\")"
   ]
  },
  {
   "cell_type": "markdown",
   "metadata": {},
   "source": [
    "## introducing cuts\n"
   ]
  },
  {
   "cell_type": "markdown",
   "metadata": {},
   "source": [
    "If you change a cut: Cell -> Run All Below\n",
    "\n",
    "If you change a cut here, you also need to make sure the cut is applied in the \"Applying a cut\" cell.\n"
   ]
  },
  {
   "cell_type": "code",
   "execution_count": null,
   "metadata": {},
   "outputs": [],
   "source": []
  },
  {
   "cell_type": "code",
   "execution_count": null,
   "metadata": {},
   "outputs": [],
   "source": [
    "import numpy as np\n",
    "\n",
    "# data_arrays= # arrays = events.arrays([\"px1\", \"py1\", \"M\"])\n",
    "# pt1 = np.sqrt(arrays.px1**2 + arrays.py1**2)\n",
    "photon_selected = data_arrays[\n",
    "    (photon_pt[:, 0] > 45000)\n",
    "    & (photon_pt[:, 1] > 35000)\n",
    "    & (photon_isTightID[:, 0] == 1)\n",
    "    & (photon_isTightID[:, 0] == 1)\n",
    "    & (photon_etcone20[:, 0] < 3500)\n",
    "    & (photon_etcone20[:, 1] < 3500)\n",
    "    & ((abs(photon_eta[:, 0]) > 1.52) | (abs(photon_eta[:, 0]) < 1.37))\n",
    "    & ((abs(photon_eta[:, 1]) > 1.52) | (abs(photon_eta[:, 1]) < 1.37))\n",
    "]"
   ]
  },
  {
   "cell_type": "code",
   "execution_count": null,
   "metadata": {},
   "outputs": [
    {
     "data": {
      "text/plain": [
       "23422"
      ]
     },
     "execution_count": 416,
     "metadata": {},
     "output_type": "execute_result"
    }
   ],
   "source": [
    "len(photon_selected)"
   ]
  },
  {
   "cell_type": "code",
   "execution_count": null,
   "metadata": {},
   "outputs": [],
   "source": [
    "photon_info= [\"photon_pt\", \"photon_eta\", \"photon_phi\", \"photon_E\"]\n",
    "\n",
    "\n",
    "photon_pt_selected = photon_selected[\"photon_pt\"]\n",
    "photon_eta_selected = photon_selected[\"photon_eta\"]\n",
    "photon_phi_selected = photon_selected[\"photon_phi\"]\n",
    "photon_E_selected = photon_selected[\"photon_E\"]"
   ]
  },
  {
   "cell_type": "code",
   "execution_count": 460,
   "metadata": {},
   "outputs": [
    {
     "data": {
      "text/plain": [
       "(array([72., 84., 91., 76., 71., 74., 72., 79., 67., 80., 78., 62., 67.,\n",
       "        79., 85., 65., 73., 71., 74., 76., 61., 79., 85., 77., 74., 79.,\n",
       "        65., 79., 52., 81., 58., 65., 54., 69., 59., 63., 60., 71., 60.,\n",
       "        63., 66., 71., 64., 63., 53., 65., 63., 43., 63., 63., 47., 70.,\n",
       "        69., 65., 73., 66., 65., 61., 54., 59., 55., 53., 67., 61., 55.,\n",
       "        67., 57., 61., 58., 68., 57., 52., 50., 41., 64., 71., 57., 52.,\n",
       "        54., 50., 57., 54., 47., 44., 46., 67., 56., 52., 56., 53., 47.,\n",
       "        50., 41., 50., 52., 53., 78., 52., 43., 52., 51., 49., 47., 52.,\n",
       "        55., 51., 44., 50., 57., 56., 47., 44., 56., 51., 50., 49., 41.,\n",
       "        50., 39., 46., 36., 58., 44., 38., 48., 49., 43., 37., 54., 44.,\n",
       "        47., 46., 34., 32., 34., 44., 49., 45., 51., 32., 42., 40., 40.,\n",
       "        47., 38., 46., 42., 34., 35., 46., 31., 39., 31., 34., 33., 41.,\n",
       "        34., 35., 41., 28., 30., 51., 35., 33., 28., 33., 29., 34., 48.,\n",
       "        36., 27., 38., 34., 37., 35., 31., 35., 30., 31., 31., 27., 30.,\n",
       "        34., 28., 45., 23., 36., 34., 42., 23., 33., 33., 28., 29., 21.,\n",
       "        35., 32., 24., 33., 22.]),\n",
       " array([100.  , 100.25, 100.5 , 100.75, 101.  , 101.25, 101.5 , 101.75,\n",
       "        102.  , 102.25, 102.5 , 102.75, 103.  , 103.25, 103.5 , 103.75,\n",
       "        104.  , 104.25, 104.5 , 104.75, 105.  , 105.25, 105.5 , 105.75,\n",
       "        106.  , 106.25, 106.5 , 106.75, 107.  , 107.25, 107.5 , 107.75,\n",
       "        108.  , 108.25, 108.5 , 108.75, 109.  , 109.25, 109.5 , 109.75,\n",
       "        110.  , 110.25, 110.5 , 110.75, 111.  , 111.25, 111.5 , 111.75,\n",
       "        112.  , 112.25, 112.5 , 112.75, 113.  , 113.25, 113.5 , 113.75,\n",
       "        114.  , 114.25, 114.5 , 114.75, 115.  , 115.25, 115.5 , 115.75,\n",
       "        116.  , 116.25, 116.5 , 116.75, 117.  , 117.25, 117.5 , 117.75,\n",
       "        118.  , 118.25, 118.5 , 118.75, 119.  , 119.25, 119.5 , 119.75,\n",
       "        120.  , 120.25, 120.5 , 120.75, 121.  , 121.25, 121.5 , 121.75,\n",
       "        122.  , 122.25, 122.5 , 122.75, 123.  , 123.25, 123.5 , 123.75,\n",
       "        124.  , 124.25, 124.5 , 124.75, 125.  , 125.25, 125.5 , 125.75,\n",
       "        126.  , 126.25, 126.5 , 126.75, 127.  , 127.25, 127.5 , 127.75,\n",
       "        128.  , 128.25, 128.5 , 128.75, 129.  , 129.25, 129.5 , 129.75,\n",
       "        130.  , 130.25, 130.5 , 130.75, 131.  , 131.25, 131.5 , 131.75,\n",
       "        132.  , 132.25, 132.5 , 132.75, 133.  , 133.25, 133.5 , 133.75,\n",
       "        134.  , 134.25, 134.5 , 134.75, 135.  , 135.25, 135.5 , 135.75,\n",
       "        136.  , 136.25, 136.5 , 136.75, 137.  , 137.25, 137.5 , 137.75,\n",
       "        138.  , 138.25, 138.5 , 138.75, 139.  , 139.25, 139.5 , 139.75,\n",
       "        140.  , 140.25, 140.5 , 140.75, 141.  , 141.25, 141.5 , 141.75,\n",
       "        142.  , 142.25, 142.5 , 142.75, 143.  , 143.25, 143.5 , 143.75,\n",
       "        144.  , 144.25, 144.5 , 144.75, 145.  , 145.25, 145.5 , 145.75,\n",
       "        146.  , 146.25, 146.5 , 146.75, 147.  , 147.25, 147.5 , 147.75,\n",
       "        148.  , 148.25, 148.5 , 148.75, 149.  , 149.25, 149.5 , 149.75,\n",
       "        150.  ]),\n",
       " [<matplotlib.patches.Polygon at 0x29b19bc90>])"
      ]
     },
     "execution_count": 460,
     "metadata": {},
     "output_type": "execute_result"
    },
    {
     "data": {
      "image/png": "[encoded data removed]",
      "text/plain": [
       "<Figure size 1000x1000 with 1 Axes>"
      ]
     },
     "metadata": {},
     "output_type": "display_data"
    }
   ],
   "source": [
    "myy_selected = calc_myy(\n",
    "    photon_pt_selected, photon_eta_selected, photon_phi_selected, photon_E_selected\n",
    ")\n",
    "myy_selected  # invariant mass of the photon pair (in GeV) for each event in the dataset without cuts or selections\n",
    "\n",
    "plt.hist(myy_selected, bins=200, range=(100, 150), histtype=\"step\", label=\"Higgs\")"
   ]
  },
  {
   "cell_type": "code",
   "execution_count": null,
   "metadata": {},
   "outputs": [],
   "source": []
  },
  {
   "cell_type": "markdown",
   "metadata": {},
   "source": [
    "## plotting"
   ]
  },
  {
   "cell_type": "code",
   "execution_count": 457,
   "metadata": {},
   "outputs": [],
   "source": [
    "xmin = 100  # GeV\n",
    "xmax = 150  # GeV\n",
    "step_size = 2  # GeV\n",
    "\n",
    "bin_edges = np.arange(\n",
    "    start=xmin,  # The interval includes this value\n",
    "    stop=xmax + step_size,  # The interval doesn't include this value\n",
    "    step=step_size,\n",
    ")  # Spacing between values\n",
    "\n",
    "bin_centres = np.arange(\n",
    "    start=xmin + step_size / 2,  # The interval includes this value\n",
    "    stop=xmax + step_size / 2,  # The interval doesn't include this value\n",
    "    step=step_size,\n",
    ")  # Spacing between values"
   ]
  },
  {
   "cell_type": "code",
   "execution_count": 458,
   "metadata": {},
   "outputs": [],
   "source": [
    "def plot_data(myy_selected):\n",
    "    # to have this function work, akward array needs to be converted to numpy array\n",
    "    data_x, _ = np.histogram(myy_selected.to_numpy(), bins=bin_edges)\n",
    "\n",
    "    data_x_errors = np.sqrt(data_x)  # statistical error on the data\n",
    "\n",
    "    plt.errorbar(\n",
    "        x=bin_centres, y=data_x, yerr=data_x_errors, label=\"Data\", fmt=\"ko\"\n",
    "    )  # 'k' means black and 'o' means circles\n",
    "\n",
    "    # data fit\n",
    "    polynomial_mod = PolynomialModel(4)  # 4th order polynomial\n",
    "    gaussian_mod = GaussianModel()  # Gaussian\n",
    "    # set initial guesses for the parameters of the polynomial model\n",
    "    pars = polynomial_mod.guess(\n",
    "        data_x,  # data to use to guess parameter values\n",
    "        x=bin_centres,\n",
    "        c0=np.max(myy_selected),\n",
    "        c1=0,\n",
    "        c2=0,\n",
    "        c3=0,\n",
    "        c4=0,\n",
    "    )\n",
    "    # set initial guesses for the parameters of the Gaussian model\n",
    "    pars += gaussian_mod.guess(\n",
    "        data_x,  # data to use to guess parameter values\n",
    "        x=bin_centres,\n",
    "        amplitude=300,\n",
    "        center=125.0,\n",
    "        sigma=2.4,\n",
    "    )\n",
    "    model = polynomial_mod + gaussian_mod  # combined model\n",
    "    out = model.fit(\n",
    "        data_x,  # data to be fit\n",
    "        pars,  # guesses for the parameters\n",
    "        x=bin_centres,\n",
    "        weights=1 / data_x_errors,\n",
    "    )  # fit the model to the data\n",
    "\n",
    "    # background part of fit\n",
    "    params_dict = out.params.valuesdict()  # get the parameters from the fit to data\n",
    "    c0 = params_dict[\"c0\"]  # c0 of c0 + c1*x + c2*x^2 + c3*x^3 + c4*x^4\n",
    "    c1 = params_dict[\"c1\"]  # c1 of c0 + c1*x + c2*x^2 + c3*x^3 + c4*x^4\n",
    "    c2 = params_dict[\"c2\"]  # c2 of c0 + c1*x + c2*x^2 + c3*x^3 + c4*x^4\n",
    "    c3 = params_dict[\"c3\"]  # c3 of c0 + c1*x + c2*x^2 + c3*x^3 + c4*x^4\n",
    "    c4 = params_dict[\"c4\"]  # c4 of c0 + c1*x + c2*x^2 + c3*x^3 + c4*x^4\n",
    "    # get the background only part of the fit to data\n",
    "    background = (\n",
    "        c0\n",
    "        + c1 * bin_centres\n",
    "        + c2 * bin_centres**2\n",
    "        + c3 * bin_centres**3\n",
    "        + c4 * bin_centres**4\n",
    "    )\n",
    "\n",
    "    signal_x = data_x - background  # data fit - background fit = signal fit\n",
    "    print(signal_x)\n",
    "    # plot the signal + background fit\n",
    "    plt.plot(\n",
    "        bin_centres,  # x\n",
    "        out.best_fit,  # y\n",
    "        \"-r\",  # single red line\n",
    "        label=\"Sig+Bkg Fit ($m_H=125$ GeV)\",\n",
    "    )\n",
    "    # plot the background only fit\n",
    "    plt.plot(\n",
    "        bin_centres,  # x\n",
    "        background,  # y\n",
    "        \"--r\",  # dashed red line\n",
    "        label=\"Bkg (4th order polynomial)\",\n",
    "    )\n",
    "\n",
    "    plt.ylabel(\"Events\")  # write y-axis label for main axes\n",
    "    plt.ylim(200, 650)  # set the y axis limit for the main axes\n",
    "    plt.xlabel(\n",
    "        r\"di-photon invariant mass $\\mathrm{M_{\\gamma\\gamma}}$ [GeV]\"\n",
    "    )  # x-axis label\n",
    "\n",
    "    # draw the legend\n",
    "    plt.legend(frameon=False)  # no box around the legend\n",
    "\n",
    "    print(f\"chi^2 = {str(out.chisqr)}\")\n",
    "    print(\"gaussian centre = \" + str(params_dict[\"center\"]))\n",
    "    print(\"gaussian sigma = \" + str(params_dict[\"sigma\"]))\n",
    "    print(\"gaussian fwhm = \" + str(params_dict[\"fwhm\"]))\n",
    "\n",
    "    return"
   ]
  },
  {
   "cell_type": "code",
   "execution_count": 459,
   "metadata": {},
   "outputs": [
    {
     "name": "stdout",
     "output_type": "stream",
     "text": [
      "[  1.44938328  -9.20774565  27.05621833   5.53876024 -28.48653685\n",
      " -20.7699918   24.9141746    0.76783961  16.96897857  -3.32833515\n",
      "  -3.99393007  -9.92153668  26.9712126   21.74278343  14.42773952\n",
      "   0.03674264  -3.44344738  21.95002738   1.15612288 -18.91010685\n",
      "  -9.35750972  16.68116443 -10.95073618  23.56623473 -10.97237849]\n",
      "chi^2 = 13.64444103483109\n",
      "gaussian centre = 126.48582603067494\n",
      "gaussian sigma = 1.69306549259051\n",
      "gaussian fwhm = 3.9868644238530746\n"
     ]
    },
    {
     "data": {
      "image/png": "[encoded data removed]",
      "text/plain": [
       "<Figure size 1000x1000 with 1 Axes>"
      ]
     },
     "metadata": {},
     "output_type": "display_data"
    }
   ],
   "source": [
    "import mplhep as hep\n",
    "\n",
    "hep.style.use(\"CMS\")  # string aliases work too\n",
    "plot_data(myy_selected)"
   ]
  },
  {
   "cell_type": "code",
   "execution_count": null,
   "metadata": {},
   "outputs": [],
   "source": []
  },
  {
   "cell_type": "markdown",
   "metadata": {},
   "source": [
    "#### What can you do to explore this analysis?\n",
    "* increase the quantity of data, i.e. add data_B, data_C and data_D? \n",
    "* Try different initial guesses for the parameters of the fit in 'Plotting'?\n",
    "* Try different functions for the fit in 'Plotting'?\n",
    "* Check how many events are being thrown away by each cut in 'Applying a cut'?\n",
    "* Add more cuts from the Higgs discovery paper in 'Changing a cut' and 'Applying a cut'?\n",
    "* Add some extra commands in 'Plotting' to make it look more similar to the Higgs discovery paper?\n",
    "* Your idea!\n",
    "* You can download more data by on your pc and add them in the input/GamGam/Data, or use the links directly without downloading.\n",
    "\n",
    "##### you can download them by clicking on the link\n",
    "https://atlas-opendata.web.cern.ch/atlas-opendata/samples/2020/GamGam/Data/data_B.GamGam.root\n",
    "\n",
    "https://atlas-opendata.web.cern.ch/atlas-opendata/samples/2020/GamGam/Data/data_C.GamGam.root\n",
    "\n",
    "https://atlas-opendata.web.cern.ch/atlas-opendata/samples/2020/GamGam/Data/data_D.GamGam.root"
   ]
  },
  {
   "cell_type": "code",
   "execution_count": null,
   "metadata": {},
   "outputs": [],
   "source": []
  }
 ],
 "metadata": {
  "kernelspec": {
   "display_name": "Python 3",
   "language": "python",
   "name": "python3"
  },
  "language_info": {
   "codemirror_mode": {
    "name": "ipython",
    "version": 3
   },
   "file_extension": ".py",
   "mimetype": "text/x-python",
   "name": "python",
   "nbconvert_exporter": "python",
   "pygments_lexer": "ipython3",
   "version": "3.11.4"
  }
 },
 "nbformat": 4,
 "nbformat_minor": 2
}
